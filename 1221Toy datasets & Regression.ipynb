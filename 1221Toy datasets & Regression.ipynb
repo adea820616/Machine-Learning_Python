{
 "cells": [
  {
   "cell_type": "code",
   "execution_count": 13,
   "metadata": {},
   "outputs": [
    {
     "name": "stdout",
     "output_type": "stream",
     "text": [
      "<class 'numpy.ndarray'>\n",
      "['sepal length (cm)', 'sepal width (cm)', 'petal length (cm)', 'petal width (cm)']\n",
      "#################\n",
      "[0 0 0 0 0 0 0 0 0 0 0 0 0 0 0 0 0 0 0 0 0 0 0 0 0 0 0 0 0 0 0 0 0 0 0 0 0\n",
      " 0 0 0 0 0 0 0 0 0 0 0 0 0 1 1 1 1 1 1 1 1 1 1 1 1 1 1 1 1 1 1 1 1 1 1 1 1\n",
      " 1 1 1 1 1 1 1 1 1 1 1 1 1 1 1 1 1 1 1 1 1 1 1 1 1 1 2 2 2 2 2 2 2 2 2 2 2\n",
      " 2 2 2 2 2 2 2 2 2 2 2 2 2 2 2 2 2 2 2 2 2 2 2 2 2 2 2 2 2 2 2 2 2 2 2 2 2\n",
      " 2 2]\n",
      "   sepal length (cm)  sepal width (cm)  petal length (cm)  petal width (cm)  \\\n",
      "0                5.1               3.5                1.4               0.2   \n",
      "1                4.9               3.0                1.4               0.2   \n",
      "2                4.7               3.2                1.3               0.2   \n",
      "3                4.6               3.1                1.5               0.2   \n",
      "4                5.0               3.6                1.4               0.2   \n",
      "\n",
      "   species  \n",
      "0        0  \n",
      "1        0  \n",
      "2        0  \n",
      "3        0  \n",
      "4        0  \n"
     ]
    },
    {
     "name": "stderr",
     "output_type": "stream",
     "text": [
      "C:\\Users\\owner\\Anaconda3\\lib\\site-packages\\ipykernel_launcher.py:12: DeprecationWarning: \n",
      ".ix is deprecated. Please use\n",
      ".loc for label based indexing or\n",
      ".iloc for positional indexing\n",
      "\n",
      "See the documentation here:\n",
      "http://pandas.pydata.org/pandas-docs/stable/indexing.html#ix-indexer-is-deprecated\n",
      "  if sys.path[0] == '':\n"
     ]
    }
   ],
   "source": [
    "#玩具資料\n",
    "from sklearn import datasets\n",
    "import pandas as pd\n",
    "\n",
    "#使用sklearn的datasets物件的load_iris()方法來讀入iris\n",
    "iris = datasets.load_iris()\n",
    "print ( type(iris.data) )\n",
    "print (iris.feature_names) #取得變數名稱\n",
    "#轉換為data frame\n",
    "iris_df = pd.DataFrame(iris.data, columns = iris.feature_names)\n",
    "#將品種加入data frame\n",
    "iris_df.ix[:, \"species\"] = iris.target\n",
    "print(\"#################\")\n",
    "print(iris.target)\n",
    "print(iris_df.head())\n",
    "print(\"#################\")\n",
    "\n",
    "\n",
    "#建立線性迴歸分析模型\n",
    "from numpy as np\n",
    "from sklearn.linear_model\n",
    "\n",
    "temperatures = np.array([29, 28, 34, 31, 25, 29, 32, 31, 24, 33, 25, 31, 26, 30])\n",
    "\n"
   ]
  },
  {
   "cell_type": "code",
   "execution_count": 18,
   "metadata": {},
   "outputs": [
    {
     "name": "stdout",
     "output_type": "stream",
     "text": [
      "[[ 3.73788546]]\n",
      "[-36.36123348]\n"
     ]
    }
   ],
   "source": [
    "#建立線性迴歸分析模型\n",
    "\n",
    "#R寫法\n",
    "#lm_fit <- lm(iced_tea_sales ~ temperatures)\n",
    "\n",
    "# 印出係數\n",
    "#lm_fit$coefficients[2]\n",
    "\n",
    "# 印出截距\n",
    "#lm_fit$coefficients[1]\n",
    "\n",
    "\n",
    "import numpy as np\n",
    "from sklearn.linear_model import LinearRegression\n",
    "\n",
    "temp = np.array([29, 28, 34, 31, 25, 29, 32, 31, 24, 33, 25, 31, 26, 30])\n",
    "iced = np.array([77, 62, 93, 84, 59, 64, 80, 75, 58, 91, 51, 73, 65, 84])\n",
    "\n",
    "#使用 sklearn.linear_model 的 LinearRegression() 方法\n",
    "#np.reshape() 定義新維度\n",
    "#lm.fit() 要把row轉換成column\n",
    "lm = LinearRegression()\n",
    "lm.fit( np.reshape(temp, (len(temp),1)),\n",
    "      np.reshape(iced, (len(iced),1)))\n",
    "       \n",
    "#印出回歸係數\n",
    "print(lm.coef_)\n",
    "       \n",
    "#截距\n",
    "print(lm.intercept_)\n",
    "\n",
    "\n"
   ]
  },
  {
   "cell_type": "code",
   "execution_count": 25,
   "metadata": {},
   "outputs": [
    {
     "name": "stdout",
     "output_type": "stream",
     "text": [
      "[[ 75.7753304]]\n"
     ]
    }
   ],
   "source": [
    "#利用線性迴歸分析模型\"預測\"\n",
    "\n",
    "#R 寫法\n",
    "#lm_fit <- lm(iced_tea_sales ~ temperatures)\n",
    "\n",
    "# 新的氣溫\n",
    "#to_be_predicted <- data.frame(temperatures = 30)\n",
    "#predicted_sales <- predict(lm_fit, newdata = to_be_predicted)\n",
    "\n",
    "# 預測的冰紅茶銷量\n",
    "#predicted_sales\n",
    "\n",
    "\n",
    "#使用 LinearRegression() 的 predict() 方法\n",
    "import numpy as np\n",
    "from sklearn.linear_model import LinearRegression\n",
    "\n",
    "temp = np.array([29, 28, 34, 31, 25, 29, 32, 31, 24, 33, 25, 31, 26, 30])\n",
    "iced = np.array([77, 62, 93, 84, 59, 64, 80, 75, 58, 91, 51, 73, 65, 84])\n",
    "\n",
    "lm = LinearRegression()\n",
    "lm.fit( np.reshape(temp, (len(temp),1)),\n",
    "      np.reshape(iced, (len(iced),1)))\n",
    "\n",
    "# 新的氣溫\n",
    "pred = np.array([30])\n",
    "pred_sales = lm.predict(np.reshape(pred, (len(pred),1) ))\n",
    "\n",
    "#預測的冰紅茶銷量\n",
    "print(pred_sales)\n",
    "\n",
    "\n"
   ]
  },
  {
   "cell_type": "code",
   "execution_count": 32,
   "metadata": {},
   "outputs": [
    {
     "name": "stdout",
     "output_type": "stream",
     "text": [
      "27.9348646948\n",
      "0.822509288117\n"
     ]
    }
   ],
   "source": [
    "#線性迴歸模型的績效\n",
    "#Mean squared error（MSE）與 R-squared\n",
    "\n",
    "#R寫法\n",
    "#lm_fit <- lm(iced_tea_sales ~ temperatures)\n",
    "#predicted_sales <- predict(lm_fit, newdata = data.frame(temperatures))\n",
    "\n",
    "# 模型績效\n",
    "#mse <- mean((iced_tea_sales - predicted_sales) ^ 2)\n",
    "\n",
    "# 印出模型績效\n",
    "#mse\n",
    "#summary(lm_fit)$r.squared\n",
    "import numpy as np\n",
    "from sklearn.linear_model import LinearRegression\n",
    "\n",
    "temp = np.array([29, 28, 34, 31, 25, 29, 32, 31, 24, 33, 25, 31, 26, 30])\n",
    "iced = np.array([77, 62, 93, 84, 59, 64, 80, 75, 58, 91, 51, 73, 65, 84])\n",
    "\n",
    "#轉換維度\n",
    "temp = np.reshape(temperatures, (len(temperatures), 1))\n",
    "iced = np.reshape(iced_tea_sales, (len(iced_tea_sales), 1))\n",
    "\n",
    "lm = LinearRegression()\n",
    "lm.fit(temp, iced)\n",
    "\n",
    "#因為lm.predict(x,y)\n",
    "#一定把temp取代掉\n",
    "\n",
    "#模型績效\n",
    "mse = np.mean( (lm.predict(temp) - iced) ** 2)\n",
    "r_squared = lm.score(temp, iced)\n",
    "\n",
    "print(mse)\n",
    "print(r_squared)"
   ]
  }
 ],
 "metadata": {
  "kernelspec": {
   "display_name": "Python 3",
   "language": "python",
   "name": "python3"
  },
  "language_info": {
   "codemirror_mode": {
    "name": "ipython",
    "version": 3
   },
   "file_extension": ".py",
   "mimetype": "text/x-python",
   "name": "python",
   "nbconvert_exporter": "python",
   "pygments_lexer": "ipython3",
   "version": "3.6.2"
  }
 },
 "nbformat": 4,
 "nbformat_minor": 2
}
