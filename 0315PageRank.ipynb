{
 "cells": [
  {
   "cell_type": "code",
   "execution_count": 16,
   "metadata": {},
   "outputs": [
    {
     "name": "stdout",
     "output_type": "stream",
     "text": [
      "[ 0.41957894  0.54619419  0.41683241  0.42205083  0.41683241]\n"
     ]
    }
   ],
   "source": [
    "#PageRank\n",
    "\n",
    "import numpy as np\n",
    "A = np.array([[0,0,0,1,0],\n",
    "              [0,0,1,0,1],\n",
    "              [1,0,0,0,0],\n",
    "              [0,1,1,0,1],\n",
    "              [0,1,0,0,0]])\n",
    "N = (A.T / A.sum( axis =1)).T\n",
    "\n",
    "#np.full(5*5矩陣,值)\n",
    "NR = np.full( (5,5), 1/5)\n",
    "\n",
    "alpha = 0.1\n",
    "M = (1-alpha)* N + alpha * NR\n",
    "\n",
    "p = np.ones(5)\n",
    "for i in range(30):\n",
    "    p = np.dot(M.T, p)\n",
    "    p = p / np.linalg.norm(p)\n",
    "print(p)"
   ]
  }
 ],
 "metadata": {
  "kernelspec": {
   "display_name": "Python 3",
   "language": "python",
   "name": "python3"
  },
  "language_info": {
   "codemirror_mode": {
    "name": "ipython",
    "version": 3
   },
   "file_extension": ".py",
   "mimetype": "text/x-python",
   "name": "python",
   "nbconvert_exporter": "python",
   "pygments_lexer": "ipython3",
   "version": "3.6.2"
  }
 },
 "nbformat": 4,
 "nbformat_minor": 2
}
