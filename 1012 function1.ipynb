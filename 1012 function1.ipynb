{
 "cells": [
  {
   "cell_type": "code",
   "execution_count": 45,
   "metadata": {},
   "outputs": [
    {
     "name": "stdout",
     "output_type": "stream",
     "text": [
      "49\n",
      "8\n",
      "12\n",
      "12\n",
      "6\n",
      "61\n",
      "----\n",
      "[0, 1, 2, 3, 4, 5]\n",
      "----\n",
      "49\n",
      "8\n",
      "12\n",
      "12\n",
      "6\n",
      "61\n"
     ]
    }
   ],
   "source": [
    "#for 迴圈\n",
    "#python\n",
    "## 不帶索引值的寫法\n",
    "ironmen = [49, 8, 12, 12, 6, 61]\n",
    "for ironman in ironmen:\n",
    "    print(ironman)\n",
    "\n",
    "print('----')\n",
    "\n",
    "#產生0-5的list    \n",
    "print(list(range(len(ironmen))))\n",
    "\n",
    "print('----')\n",
    "\n",
    "#帶索引值的寫法\n",
    "for index in list(range(len(ironmen))):\n",
    "    print(ironmen[index])\n",
    "    \n"
   ]
  },
  {
   "cell_type": "code",
   "execution_count": 46,
   "metadata": {},
   "outputs": [
    {
     "name": "stdout",
     "output_type": "stream",
     "text": [
      "1\n",
      "2\n",
      "3\n",
      "4\n",
      "5\n",
      "[1, 2, 3, 4, 5]\n"
     ]
    }
   ],
   "source": [
    "#print(list(range(1,11)))\n",
    "#print('---') \n",
    "for index in range(1,6):\n",
    "    print(index)\n",
    "    \n",
    "print (list(range(1,6)))\n",
    "#print('---') \n",
    "\n",
    "#a=[1,2,3]\n",
    "#for b in a:\n",
    "#    print(b)\n",
    "#print('---')     \n"
   ]
  },
  {
   "cell_type": "code",
   "execution_count": 50,
   "metadata": {},
   "outputs": [
    {
     "name": "stdout",
     "output_type": "stream",
     "text": [
      "1 奇數\n",
      "2 偶數\n",
      "3 奇數\n",
      "4 偶數\n",
      "5 奇數\n",
      "6 偶數\n",
      "7 奇數\n",
      "8 偶數\n",
      "9 奇數\n",
      "10 偶數\n"
     ]
    }
   ],
   "source": [
    "#if-else\n",
    "my_seq = list(range(1,11))\n",
    "\n",
    "for index in my_seq:\n",
    "    if(index % 2 == 0):\n",
    "        print(index,\"偶數\")\n",
    "    else:\n",
    "        print(index,\"奇數\")"
   ]
  },
  {
   "cell_type": "code",
   "execution_count": 54,
   "metadata": {},
   "outputs": [
    {
     "name": "stdout",
     "output_type": "stream",
     "text": [
      "1 被3除餘1\n",
      "2 被3除餘2\n",
      "3 被3整除\n",
      "4 被3除餘1\n",
      "5 被3除餘2\n",
      "6 被3整除\n",
      "7 被3除餘1\n",
      "8 被3除餘2\n",
      "9 被3整除\n",
      "10 被3除餘1\n"
     ]
    }
   ],
   "source": [
    "#if-elif-else\n",
    "my_seq = list(range(1,11))\n",
    "for index in my_seq:\n",
    "    if(index % 3 == 0):\n",
    "        print(index,\"被3整除\")\n",
    "    elif(index %3 ==1):\n",
    "        print(index,\"被3除餘1\")\n",
    "    else:\n",
    "        print(index,\"被3除餘2\")"
   ]
  }
 ],
 "metadata": {
  "kernelspec": {
   "display_name": "Python 3",
   "language": "python",
   "name": "python3"
  },
  "language_info": {
   "codemirror_mode": {
    "name": "ipython",
    "version": 3
   },
   "file_extension": ".py",
   "mimetype": "text/x-python",
   "name": "python",
   "nbconvert_exporter": "python",
   "pygments_lexer": "ipython3",
   "version": "3.6.2"
  }
 },
 "nbformat": 4,
 "nbformat_minor": 2
}
