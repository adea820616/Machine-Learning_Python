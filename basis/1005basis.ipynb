{
 "cells": [
  {
   "cell_type": "code",
   "execution_count": 19,
   "metadata": {},
   "outputs": [
    {
     "name": "stdout",
     "output_type": "stream",
     "text": [
      "<class 'int'>\n",
      "<class 'float'>\n",
      "<class 'complex'>\n",
      "<class 'bool'>\n",
      "<class 'bool'>\n",
      "<class 'str'>\n",
      "True\n",
      "True\n",
      "2.2\n",
      "5\n"
     ]
    }
   ],
   "source": [
    "#type of var\n",
    "print( type(5)) #int\n",
    "print(type(5.5))#float\n",
    "print(type(5+3j)) #complex\n",
    "print(type(True)) #bool\n",
    "print(type(False))#bool\n",
    "print(type(\"hello\"))#str\n",
    "\n",
    "print(1==True) #T\n",
    "print(0==False) #F\n",
    "print(1.2 + True) #2.2\n",
    "print(3 + True *2) #5"
   ]
  },
  {
   "cell_type": "code",
   "execution_count": 22,
   "metadata": {},
   "outputs": [
    {
     "name": "stdout",
     "output_type": "stream",
     "text": [
      "33\n",
      "36\n",
      "33\n",
      "90\n",
      "10.0\n",
      "0\n"
     ]
    }
   ],
   "source": [
    "#運算子\n",
    "days = 30\n",
    "days = days +3\n",
    "print(days) #33\n",
    "\n",
    "days += 3 #days = days +3\n",
    "print(days) #36\n",
    "\n",
    "days -= 3 #days = days -3\n",
    "print(days) #33\n",
    "\n",
    "days = 30\n",
    "days *= 3 #days = days *3\n",
    "print(days) #90\n",
    "\n",
    "days = 30\n",
    "days /= 3 #days = days /3\n",
    "print(days) #10\n",
    "\n",
    "days = 30\n",
    "days %= 3 #days = days %3\n",
    "print(days) #0\n"
   ]
  },
  {
   "cell_type": "code",
   "execution_count": 29,
   "metadata": {},
   "outputs": [
    {
     "name": "stdout",
     "output_type": "stream",
     "text": [
      "<class 'bool'>\n",
      "1.0\n",
      "1\n",
      "(1+0j)\n",
      "<class 'str'>\n"
     ]
    }
   ],
   "source": [
    "#變數類型轉換\n",
    "#R as.numeric()\n",
    "\n",
    "my_bool=True\n",
    "print( type(my_bool) ) #bool\n",
    "print( float(my_bool)) #1.0\n",
    "print( int(my_bool)) #1\n",
    "print( complex(my_bool)) #1+0j\n",
    "print( type( str (my_bool)))#str"
   ]
  },
  {
   "cell_type": "code",
   "execution_count": null,
   "metadata": {},
   "outputs": [],
   "source": []
  }
 ],
 "metadata": {
  "kernelspec": {
   "display_name": "Python 3",
   "language": "python",
   "name": "python3"
  },
  "language_info": {
   "codemirror_mode": {
    "name": "ipython",
    "version": 3
   },
   "file_extension": ".py",
   "mimetype": "text/x-python",
   "name": "python",
   "nbconvert_exporter": "python",
   "pygments_lexer": "ipython3",
   "version": "3.6.2"
  }
 },
 "nbformat": 4,
 "nbformat_minor": 2
}
