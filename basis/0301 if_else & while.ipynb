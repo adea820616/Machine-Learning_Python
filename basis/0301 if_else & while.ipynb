{
 "cells": [
  {
   "cell_type": "code",
   "execution_count": 1,
   "metadata": {},
   "outputs": [
    {
     "data": {
      "text/plain": [
       "2"
      ]
     },
     "execution_count": 1,
     "metadata": {},
     "output_type": "execute_result"
    }
   ],
   "source": [
    "1+1"
   ]
  },
  {
   "cell_type": "code",
   "execution_count": null,
   "metadata": {},
   "outputs": [],
   "source": [
    "#流程控制\n",
    "#1條件 2迴圈 3跳躍\n",
    "#bmi = weight/height^2\n",
    "w = float( input( \"weight(kg)\" ))\n",
    "h = float( input (\"height(m)\"))\n",
    "bmi = w / (h*h)\n",
    "if bmi >=40:\n",
    "    print(\"極度超重\",bmi)\n",
    "elif bmi>=30:\n",
    "    print(\"嚴重超重\",bmi)\n",
    "elif bmi>=25:\n",
    "    print(\"超重!\",bmi)\n",
    "else:\n",
    "    print(\"正常\",bmi)"
   ]
  },
  {
   "cell_type": "code",
   "execution_count": null,
   "metadata": {},
   "outputs": [],
   "source": [
    "#Guess the number\n",
    "import random\n",
    "ans = random.randint(1,100)\n",
    "guess = int(input(\"guess(1-100):\"))\n",
    "while guess != ans:\n",
    "    if guess > ans:\n",
    "        print(\"太大\")\n",
    "    elif guess < ans:\n",
    "        print(\"太小\")\n",
    "    guess = int(input(\"guess(1-100):\"))\n",
    "print(\"bingo!\")"
   ]
  }
 ],
 "metadata": {
  "kernelspec": {
   "display_name": "Python 3",
   "language": "python",
   "name": "python3"
  },
  "language_info": {
   "codemirror_mode": {
    "name": "ipython",
    "version": 3
   },
   "file_extension": ".py",
   "mimetype": "text/x-python",
   "name": "python",
   "nbconvert_exporter": "python",
   "pygments_lexer": "ipython3",
   "version": "3.6.2"
  }
 },
 "nbformat": 4,
 "nbformat_minor": 2
}
