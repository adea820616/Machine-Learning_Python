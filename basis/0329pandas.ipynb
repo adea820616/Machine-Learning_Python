{
 "cells": [
  {
   "cell_type": "code",
   "execution_count": 8,
   "metadata": {},
   "outputs": [
    {
     "name": "stdout",
     "output_type": "stream",
     "text": [
      "1    5\n",
      "2    6\n",
      "dtype: int64\n",
      "1    5\n",
      "2    6\n",
      "0    3\n",
      "1    5\n",
      "dtype: int64\n",
      "0    3\n",
      "dtype: int64\n",
      "2    6\n",
      "3    1\n",
      "4    2\n",
      "dtype: int64\n",
      "0    3\n",
      "1    5\n",
      "dtype: int64\n"
     ]
    }
   ],
   "source": [
    "#pandas\n",
    "import pandas as pd\n",
    "# series 序列 (想像是一維，較強大的list)\n",
    "# dataframe(python裡沒有預設dataframe)\n",
    "\n",
    "l1 = [3, 5, 6, 1, 2]\n",
    "s1 = pd.Series( [3, 5, 6, 1, 2] )\n",
    "#print(l1[l1 > 3])\n",
    "print(s1[ s1 > 3])\n",
    "print( s1[ [1, 2, 0, 1] ])\n",
    "print( s1[0:1])\n",
    "print( s1[2:])\n",
    "print( s1[:2])"
   ]
  },
  {
   "cell_type": "code",
   "execution_count": 13,
   "metadata": {},
   "outputs": [
    {
     "name": "stdout",
     "output_type": "stream",
     "text": [
      "a    1\n",
      "b    2\n",
      "c    3\n",
      "d    4\n",
      "e    5\n",
      "dtype: int64\n",
      "1\n",
      "1\n"
     ]
    }
   ],
   "source": [
    "s2 = pd.Series( {\"a\":1, \"b\":2, \"c\":3, \"d\":4, \"e\":5 }) #有key value\n",
    "print(s2)\n",
    "print(s2[\"a\"])\n",
    "s2 = {\"a\":1, \"b\":2, \"c\":3, \"d\":4, \"e\":5 }\n",
    "print(s2[\"a\"])"
   ]
  },
  {
   "cell_type": "code",
   "execution_count": 14,
   "metadata": {},
   "outputs": [
    {
     "name": "stdout",
     "output_type": "stream",
     "text": [
      "   Gardes    Name\n",
      "0     100  Steven\n",
      "1      90   Jerry\n",
      "2      80    Ivan\n",
      "3      70   Carol\n"
     ]
    }
   ],
   "source": [
    "d1 = { \"Name\" : [\"Steven\", \"Jerry\", \"Ivan\", \"Carol\"],\n",
    "       \"Gardes\" : [100, 90, 80, 70]}\n",
    "df1 = pd.DataFrame(d1)\n",
    "print(df1)"
   ]
  },
  {
   "cell_type": "code",
   "execution_count": 21,
   "metadata": {},
   "outputs": [
    {
     "name": "stdout",
     "output_type": "stream",
     "text": [
      "Index(['A', 'B', 'C', 'D', 'E', 'F'], dtype='object')\n",
      "RangeIndex(start=0, stop=20, step=1)\n"
     ]
    }
   ],
   "source": [
    "df2 = pd.read_csv( \"0329data.csv\")\n",
    "print( df2.shape ) #大小\n",
    "print( df2.describe() ) #敘述性統計\n",
    "print( df2.head() )\n",
    "print( df2.tail() )\n",
    "print( df2.columns ) #欄位名稱\n",
    "print( df2.index)\n",
    "print( df2 )"
   ]
  },
  {
   "cell_type": "code",
   "execution_count": 55,
   "metadata": {},
   "outputs": [
    {
     "name": "stdout",
     "output_type": "stream",
     "text": [
      "     A    B   C   D   E   F\n",
      "0   99   93  89  63  92  62\n",
      "9   89  100  99  53  63  24\n",
      "18  87   65   9  75   1  17\n",
      "     A    B   C   D   E   F\n",
      "0   99   93  89  63  92  62\n",
      "3   26   84  67  74  30  31\n",
      "6   33  100  86  75  58  66\n",
      "9   89  100  99  53  63  24\n",
      "16  18   88  16  37  29  72\n",
      "     A    B   C   D   E   F\n",
      "3   26   84  67  74  30  31\n",
      "6   33  100  86  75  58  66\n",
      "16  18   88  16  37  29  72\n",
      "18  87   65   9  75   1  17\n"
     ]
    }
   ],
   "source": [
    "#print( df2.iloc[0,0] ) #iloc[,] 取值\n",
    "#print( df2.iloc[0:5, :] )\n",
    "#print( df2.iloc[0:5, 1:3])\n",
    "#print( df2.iloc[:5, [1,5]]) #column選1和5\n",
    "#print( df2[\"A\"] )\n",
    "#print( df2.A ) # = df2[\"A\"]\n",
    "\n",
    "#print( df2[ df2.A > 80] )\n",
    "print( df2[df2.A >80])\n",
    "print( df2[df2.B >80])\n",
    "print( df2 [ (  df2[\"A\"] > 80  ) != (  df2[\"B\"] >80  ) ] )"
   ]
  }
 ],
 "metadata": {
  "kernelspec": {
   "display_name": "Python 3",
   "language": "python",
   "name": "python3"
  },
  "language_info": {
   "codemirror_mode": {
    "name": "ipython",
    "version": 3
   },
   "file_extension": ".py",
   "mimetype": "text/x-python",
   "name": "python",
   "nbconvert_exporter": "python",
   "pygments_lexer": "ipython3",
   "version": "3.6.2"
  }
 },
 "nbformat": 4,
 "nbformat_minor": 2
}
