{
 "cells": [
  {
   "cell_type": "code",
   "execution_count": null,
   "metadata": {},
   "outputs": [],
   "source": [
    "r=float(input(\"半徑(cm)\"))\n",
    "circle = r*r*3.14\n",
    "\n",
    "if r<0:\n",
    "    print(\"error\")\n",
    "elif r>0:\n",
    "    print(\"圓面積\",circle)"
   ]
  },
  {
   "cell_type": "code",
   "execution_count": null,
   "metadata": {},
   "outputs": [],
   "source": [
    "#資料結構\n",
    "#Variable, Tuple(不能改), List(序列or串列 可以改)\n",
    "#Tuple查找速度比list快，因為是固定不能改的數值\n",
    "####Tuple####\n",
    "weekday = (\"Sun\", \"Mon\", \"Tue\", \"Wed\", \"Thr\", \"Fri\", \"Sat\",\"Fri\")\n"
   ]
  },
  {
   "cell_type": "code",
   "execution_count": null,
   "metadata": {},
   "outputs": [],
   "source": [
    "print(weekday)"
   ]
  },
  {
   "cell_type": "code",
   "execution_count": null,
   "metadata": {},
   "outputs": [],
   "source": [
    "print(weekday[1]) #index 0開始"
   ]
  },
  {
   "cell_type": "code",
   "execution_count": null,
   "metadata": {},
   "outputs": [],
   "source": [
    "print(weekday.index(\"Fri\")) #對應的index"
   ]
  },
  {
   "cell_type": "code",
   "execution_count": null,
   "metadata": {},
   "outputs": [],
   "source": [
    "print(weekday.index(\"Friday\")) #找不對對應的變數->error"
   ]
  },
  {
   "cell_type": "code",
   "execution_count": null,
   "metadata": {},
   "outputs": [],
   "source": [
    "print(weekday.count(\"Fri\"))"
   ]
  },
  {
   "cell_type": "code",
   "execution_count": null,
   "metadata": {},
   "outputs": [],
   "source": [
    "####list####\n",
    "score = [85, 99, 81, 95, 93, 87, 92, 100, 75]"
   ]
  },
  {
   "cell_type": "code",
   "execution_count": null,
   "metadata": {},
   "outputs": [],
   "source": [
    "print(score)\n",
    "print(score[5])"
   ]
  },
  {
   "cell_type": "code",
   "execution_count": null,
   "metadata": {},
   "outputs": [],
   "source": [
    "sum(score)\n",
    "for obj in score:\n",
    "    print(obj)"
   ]
  },
  {
   "cell_type": "code",
   "execution_count": null,
   "metadata": {},
   "outputs": [],
   "source": [
    "s=0\n",
    "for obj in score:\n",
    "    s= s + obj    \n",
    "print(\"sum\",s)\n",
    "\n",
    "#驗證Answer\n",
    "print(sum(score))"
   ]
  },
  {
   "cell_type": "code",
   "execution_count": null,
   "metadata": {},
   "outputs": [],
   "source": [
    "temp = []\n",
    "temp.append(10) #加數值進[]裡\n",
    "temp.append(\"abc\") #可放不同型態"
   ]
  },
  {
   "cell_type": "code",
   "execution_count": null,
   "metadata": {},
   "outputs": [],
   "source": [
    "print(temp)"
   ]
  },
  {
   "cell_type": "code",
   "execution_count": null,
   "metadata": {},
   "outputs": [],
   "source": [
    "# sum, mean, variance\n",
    "score = []\n",
    "value = 0\n",
    "while value >= 0 :\n",
    "    value = float(input(\"請輸入成績:\"))\n",
    "    if( value >= 0) :\n",
    "        score.append(value)\n",
    "print(score)\n",
    "#print(sum(score))\n",
    "\n",
    "s = 0.0\n",
    "mean = sum(score) / len(score)\n",
    "\n",
    "for obj in score:\n",
    "    s = s + (obj - mean)*(obj - mean)\n",
    "\n",
    "s = s / (len(score)-1)\n",
    "print(\"變異數:\",s ,\"平均:\", mean)\n",
    "\n",
    "#variance = 平方期望值-期望值平方\n"
   ]
  },
  {
   "cell_type": "code",
   "execution_count": null,
   "metadata": {},
   "outputs": [],
   "source": [
    "import statistics as sta\n",
    "\n",
    "score=[10,20,30]\n",
    "print(score)\n",
    "\n",
    "m = sta.mean(score)\n",
    "v = sta.variance(score)\n",
    "s = sta.stdev(score)\n",
    "print(m)\n",
    "print(v)\n",
    "print(s)\n"
   ]
  },
  {
   "cell_type": "code",
   "execution_count": null,
   "metadata": {},
   "outputs": [],
   "source": [
    "score = []\n",
    "value = 0\n",
    "while value >= 0 :\n",
    "    value = float(input(\"請輸入成績:\"))\n",
    "    if( value >= 0) :\n",
    "        score.append(value)\n",
    "sum(score)"
   ]
  },
  {
   "cell_type": "code",
   "execution_count": null,
   "metadata": {},
   "outputs": [],
   "source": [
    "#range(start)\n",
    "#range(start,n-1)\n",
    "print(list(range(5)))\n",
    "print(list(range(0,5)))\n",
    "print(list(range(1,5)))\n",
    "print(list(range(0,5,2))) #0開始到5，每次加2\n",
    "print(list(range(1,5,2)))\n",
    "print(list(range(5,0,-1)))"
   ]
  },
  {
   "cell_type": "code",
   "execution_count": null,
   "metadata": {},
   "outputs": [],
   "source": [
    "for i in range(5):\n",
    "    for j in range(5):\n",
    "        print(\"*\", end = \"\")\n",
    "    print() #換行\n",
    "#*****\n",
    "#*****\n",
    "#*****\n",
    "#*****\n",
    "#*****\n",
    "\n",
    "#------------------------------\n",
    "\n",
    "for i in range(5):\n",
    "    for j in range(i+1):\n",
    "        print(\"*\", end = \"\")\n",
    "    print() #換行\n",
    "#*\n",
    "#**\n",
    "#***\n",
    "#****\n",
    "#*****\n",
    "\n",
    "#------------------------------\n",
    "\n",
    "for i in range(5,0,-1):\n",
    "    for j in range(i):\n",
    "        print(\"*\", end = \"\")\n",
    "    print() #換行 \n",
    "#*****\n",
    "#****\n",
    "#***\n",
    "#**\n",
    "#*"
   ]
  },
  {
   "cell_type": "code",
   "execution_count": null,
   "metadata": {},
   "outputs": [],
   "source": [
    "#99乘法表\n",
    "for i in range(1,10):\n",
    "    for j in range(1,10):\n",
    "        print(i, \"*\", j, \"=\", i*j, \",\", end=\" \")\n",
    "    print() #換行"
   ]
  },
  {
   "cell_type": "code",
   "execution_count": 2,
   "metadata": {},
   "outputs": [
    {
     "name": "stdout",
     "output_type": "stream",
     "text": [
      "10 不是質數\n"
     ]
    }
   ],
   "source": [
    "#判斷數值是否為質數\n",
    "n = int(input(\"Enter a number >2 : \"))\n",
    "\n",
    "prime = True\n",
    "for i in range(2,n):\n",
    "    if ( n % i == 0):\n",
    "        prime = False\n",
    "\n",
    "#prime已是邏輯判斷式\n",
    "if (prime):\n",
    "    print( n, \"是質數\")\n",
    "else:\n",
    "    print( n, \"不是質數\")\n",
    "    "
   ]
  },
  {
   "cell_type": "code",
   "execution_count": 8,
   "metadata": {},
   "outputs": [
    {
     "name": "stdout",
     "output_type": "stream",
     "text": [
      "[[1, 2, 1], [2, 1, 2], [3, 3, 1]]\n",
      "[[-1, 1], [2, -1], [3, -3]]\n",
      "[[-1, 3, 6, 1, -1, -4], [-2, 0, 6, 2, 1, -5], [-3, 3, 6, 3, 0, -3]]\n"
     ]
    }
   ],
   "source": [
    "#矩陣相乘\n",
    "#A*B\n",
    "A = [ [1,2,1], [2,1,2], [3,3,1] ]\n",
    "B = [ [-1,1], [2,-1], [3,-3] ]\n",
    "C = []\n",
    "\n",
    "\n",
    "for i in range(3):\n",
    "    C.append([])\n",
    "    for j in range(2):\n",
    "        t =0\n",
    "        for k in range(3):\n",
    "            t = t + A[i][k] * B[k][j]\n",
    "            C[i].append(t)\n",
    "print(A)\n",
    "print(B)\n",
    "print(C)"
   ]
  }
 ],
 "metadata": {
  "kernelspec": {
   "display_name": "Python 3",
   "language": "python",
   "name": "python3"
  },
  "language_info": {
   "codemirror_mode": {
    "name": "ipython",
    "version": 3
   },
   "file_extension": ".py",
   "mimetype": "text/x-python",
   "name": "python",
   "nbconvert_exporter": "python",
   "pygments_lexer": "ipython3",
   "version": "3.6.2"
  }
 },
 "nbformat": 4,
 "nbformat_minor": 2
}
