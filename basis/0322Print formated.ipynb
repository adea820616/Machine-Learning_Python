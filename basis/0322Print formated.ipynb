{
 "cells": [
  {
   "cell_type": "code",
   "execution_count": 5,
   "metadata": {},
   "outputs": [
    {
     "name": "stdout",
     "output_type": "stream",
     "text": [
      "This is 111\n",
      "This is 111 6f 157\n",
      "This is      111   6f  157\n"
     ]
    }
   ],
   "source": [
    "#print formated\n",
    "a = 111\n",
    "print(\"This is %d\"%(a))\n",
    "print(\"This is %d %x %o\"%(a,a,a))\n",
    "print(\"This is %8d %4x %4o\"%(a,a,a))\n",
    "#%d %x %o %f\n",
    "#10(整數), 16, 8進位, 浮點數"
   ]
  },
  {
   "cell_type": "code",
   "execution_count": 8,
   "metadata": {},
   "outputs": [
    {
     "name": "stdout",
     "output_type": "stream",
     "text": [
      " 1* 1= 1  1* 2= 2  1* 3= 3  1* 4= 4  1* 5= 5  1* 6= 6  1* 7= 7  1* 8= 8  1* 9= 9 \n",
      " 2* 1= 2  2* 2= 4  2* 3= 6  2* 4= 8  2* 5=10  2* 6=12  2* 7=14  2* 8=16  2* 9=18 \n",
      " 3* 1= 3  3* 2= 6  3* 3= 9  3* 4=12  3* 5=15  3* 6=18  3* 7=21  3* 8=24  3* 9=27 \n",
      " 4* 1= 4  4* 2= 8  4* 3=12  4* 4=16  4* 5=20  4* 6=24  4* 7=28  4* 8=32  4* 9=36 \n",
      " 5* 1= 5  5* 2=10  5* 3=15  5* 4=20  5* 5=25  5* 6=30  5* 7=35  5* 8=40  5* 9=45 \n",
      " 6* 1= 6  6* 2=12  6* 3=18  6* 4=24  6* 5=30  6* 6=36  6* 7=42  6* 8=48  6* 9=54 \n",
      " 7* 1= 7  7* 2=14  7* 3=21  7* 4=28  7* 5=35  7* 6=42  7* 7=49  7* 8=56  7* 9=63 \n",
      " 8* 1= 8  8* 2=16  8* 3=24  8* 4=32  8* 5=40  8* 6=48  8* 7=56  8* 8=64  8* 9=72 \n",
      " 9* 1= 9  9* 2=18  9* 3=27  9* 4=36  9* 5=45  9* 6=54  9* 7=63  9* 8=72  9* 9=81 \n"
     ]
    }
   ],
   "source": [
    "for i in range(1,10):\n",
    "    for j in range(1,10):\n",
    "        print(\"%2d*%2d=%2d\"%(i,j,i*j), end=\" \")\n",
    "    print(\"\") #一個迴圈完換行"
   ]
  },
  {
   "cell_type": "code",
   "execution_count": 16,
   "metadata": {},
   "outputs": [
    {
     "name": "stdout",
     "output_type": "stream",
     "text": [
      "PI =  3.14159\n",
      "PI =   3.1416\n",
      "PI = 3.1416  \n",
      "ABC\n",
      "   ABC\n",
      "ABCDEF\n"
     ]
    }
   ],
   "source": [
    "import math\n",
    "#%f小數點\n",
    "print(\"PI = %8.5f\"%(math.pi)) #小數點 (8.5 總長度.小數點位數)\n",
    "print(\"PI = %8.4f\"%(math.pi))\n",
    "print(\"PI = %-8.4f\"%(math.pi))\n",
    "\n",
    "#%s字串\n",
    "s1=\"ABCDEF\"\n",
    "print(\"%.3s\"%s1 ) \n",
    "print(\"%6.3s\"%s1)\n",
    "print(\"%3.6s\"%s1)\n"
   ]
  },
  {
   "cell_type": "code",
   "execution_count": 23,
   "metadata": {},
   "outputs": [
    {
     "name": "stdout",
     "output_type": "stream",
     "text": [
      "18\n",
      "P\n",
      "BCDEFG HI\n",
      "BDF I\n",
      "BCDE'HIKJL MN\n",
      "ACEGHKLMO\n"
     ]
    }
   ],
   "source": [
    "s2 = \"ABCDEFG HIKJL MNOP\"\n",
    "print(len(s2))\n",
    "print(s2[-1])\n",
    "print(s2[1:10])\n",
    "print(s2[1:10:2]) #print(s2[start:end:sep])\n",
    "print(s2[1:5]+\"'\"+s2[8:16])\n",
    "print(s2[::2])"
   ]
  },
  {
   "cell_type": "code",
   "execution_count": 32,
   "metadata": {},
   "outputs": [
    {
     "name": "stdout",
     "output_type": "stream",
     "text": [
      "abCD\n",
      "ab\n",
      "  ab\n",
      "ab    \n",
      "How are you?\n",
      "How Are You?\n",
      "ABC\n",
      "abc\n"
     ]
    }
   ],
   "source": [
    "print(\"ABcd\".swapcase()) #值是大寫就轉小寫，值是小寫就轉大寫\n",
    "print(\"ab    \".strip()) #空白去掉\n",
    "print(\"  ab    \".rstrip()) #右邊空白去掉\n",
    "print(\"  ab    \".lstrip()) #左邊空白去掉\n",
    "print(\"how are you?\".capitalize()) #首字大寫\n",
    "print(\"how are you?\".title()) #每個單字首字大寫\n",
    "print(\"AbC\".upper()) #轉大寫\n",
    "print(\"AbC\".lower()) #轉小寫"
   ]
  },
  {
   "cell_type": "code",
   "execution_count": 39,
   "metadata": {},
   "outputs": [
    {
     "name": "stdout",
     "output_type": "stream",
     "text": [
      "亂輸入\n"
     ]
    }
   ],
   "source": [
    "#.is()系列\n",
    "nn = input(\"please enter a number!\")\n",
    "if nn.isdigit():\n",
    "    nn = int(nn)\n",
    "else:\n",
    "    print(\"亂輸入\")"
   ]
  },
  {
   "cell_type": "code",
   "execution_count": 56,
   "metadata": {},
   "outputs": [
    {
     "name": "stdout",
     "output_type": "stream",
     "text": [
      "['This', 'is', 'a', 'book!', 'That', 'is', 'a', 'car!']\n",
      "['This is a book', ' That is a car', '']\n",
      "['This', 'is', 'a', 'book! That is a car!']\n",
      "2\n",
      "2\n",
      "-1\n",
      "10\n",
      "This is a book!!! That is a car!!!\n"
     ]
    }
   ],
   "source": [
    "s3 = \"This is a book! That is a car!\"\n",
    "print( s3.split(sep=\" \") ) #依指定字元切割字串\n",
    "print( s3.split(sep=\"!\") )\n",
    "print( s3.split(sep=\" \", maxsplit =3  )) #maxsplit最多切幾段\n",
    "print( s3.count(\"is\",5,30)) #看is出現幾次 .count(變數,start,end)\n",
    "\n",
    "print( s3.find(\"is\")) #傳回第一次出現的位子\n",
    "print( s3.find(\"ABC\")) #傳回-1表示未找到\n",
    "print( s3.index(\"book\")) #同find\n",
    "\n",
    "print( s3.replace(\"!\",\"!!!\")) #替換"
   ]
  },
  {
   "cell_type": "code",
   "execution_count": 65,
   "metadata": {},
   "outputs": [
    {
     "name": "stdout",
     "output_type": "stream",
     "text": [
      "{1, 2, 3, 4}\n",
      "{3, 4, 5, 6}\n",
      "{1, 2}\n",
      "{3, 4}\n",
      "{1, 2, 3, 4, 5, 6}\n",
      "True\n",
      "False\n"
     ]
    }
   ],
   "source": [
    "# Set & Dictionary {}\n",
    "#沒有索引值 & 有索引值\n",
    "setA = {1,2,3,4} #重複不記\n",
    "setB = {3,4,5,6}\n",
    "# setA.add( 10 )\n",
    "# setA.remove( 4 )\n",
    "# setA.clear()\n",
    "\n",
    "print( setA )\n",
    "print( setB )\n",
    "print( setA.difference(setB)) #差集\n",
    "print( setA.intersection(setB)) #交集\n",
    "print( setA.union(setB)) #聯集\n",
    "print( {1,3}.issubset(setA)) #{1,3}是否為setA的子集\n",
    "print( {1,3}.issubset(setB)) "
   ]
  },
  {
   "cell_type": "code",
   "execution_count": 76,
   "metadata": {},
   "outputs": [
    {
     "name": "stdout",
     "output_type": "stream",
     "text": [
      "ABC\n",
      "{1: 'ABC', 2: 'Book', 3: 'Cat', 4: 'Dog', 5: 'zoo'}\n",
      "{1: 'ABC', 2: 'Book', 3: 'Cat', 4: 'Dog'}\n",
      "True\n",
      "False\n",
      "1\n",
      "2\n",
      "3\n",
      "4\n"
     ]
    }
   ],
   "source": [
    "#Dictionary {key:value}\n",
    "d1 = { 1:\"Apple\", 2:\"Book\", 3:\"Cat\", 4:\"Dog\" }\n",
    "d1[1] = \"ABC\"\n",
    "print(d1[1])\n",
    "\n",
    "d1[5] = \"zoo\"\n",
    "print(d1)\n",
    "\n",
    "del d1[5]\n",
    "print(d1)\n",
    "\n",
    "print( 3 in d1)\n",
    "print(3 not in d1)\n",
    "\n",
    "#產生key值組成的list\n",
    "for i in iter(d1):\n",
    "    print(i)"
   ]
  },
  {
   "cell_type": "code",
   "execution_count": 79,
   "metadata": {},
   "outputs": [
    {
     "name": "stdout",
     "output_type": "stream",
     "text": [
      "{'T1': 1, 'T2': 2}\n",
      "{'T1': 3, 'T2': 2}\n"
     ]
    }
   ],
   "source": [
    "d2 = {\"T1\":1 , \"T2\":2} #key也可是字串，value是數值\n",
    "print(d2)\n",
    "\n",
    "d2[\"T1\"] = d2[\"T2\"] + 1\n",
    "print(d2)"
   ]
  },
  {
   "cell_type": "code",
   "execution_count": 89,
   "metadata": {},
   "outputs": [
    {
     "name": "stdout",
     "output_type": "stream",
     "text": [
      "Mark Zuckerberg apologized for the data debacle that has upended Facebook and opened the door to testifying before Congress.\n",
      "\n",
      "\"The short answer is I'm happy to if it's the right thing to do,\" the Facebook (FB) CEO told CNN's Laurie Segall in an exclusive TV interview on \"Anderson Cooper 360.\"\n",
      "\n",
      "\n",
      "\n",
      "\"What we try to do is send the person at Facebook who will have the most knowledge,\" Zuckerberg said. \"If that's me, then I am happy to go.\"\n",
      "\n",
      "\n",
      "\n",
      "Although Facebook employs a small army of lawyers and lobbyists in Washington, Zuckerberg himself has never testified before a congressional committee, according to a C-SPAN database.\n",
      "\n",
      "\n",
      "\n",
      "Lawmakers want to change that. Politicians on both sides of the Atlantic have called for Zuckerberg to testify before their legislative bodies in the five days since the Cambridge Analytica scandal erupted.\n",
      "\n",
      "\n",
      "\n",
      "The data firm, which has ties to President Donald Trump's campaign, reportedly accessed information from about 50 million Facebook users without their knowledge.\n",
      "\n",
      "\n",
      "\n",
      "Facebook says the data was initially collected by a professor for academic purposes in line with its rules. The information was later transferred to third parties, including Cambridge Analytica, in violation of Facebook's policies, Facebook has said.\n",
      "\n",
      "\n",
      "\n",
      "Zuckerberg broke his silence on the issue earlier Wednesday with a post on his personal Facebook page laying out a series of steps the company would take to better protect user data. But that wasn't enough to appease lawmakers.\n",
      "\n",
      "\n",
      "\n",
      "\"The steps Facebook has laid out to protect its users are a start, but Zuckerberg still needs to come testify,\" Sen. Amy Klobuchar, a Democrat from Minnesota, wrote on Twitter (TWTR). She also urged the company to support new regulation around online advertising disclosures.\n",
      "\n",
      "\n",
      "\n",
      "Related: Zuckerberg says 'I'm sure someone's trying' to disrupt 2018 midterm elections\n",
      "\n",
      "\n",
      "\n",
      "In the interview with CNN, Zuckerberg suggested the question was not whether Facebook should be regulated so much as how best to do it.\n",
      "\n",
      "\n",
      "\n",
      "\"I'm not sure we shouldn't be regulated,\" Zuckerberg said. \"There are things like ad transparency regulation that I would love to see.\"\n",
      "\n",
      "\n",
      "\n",
      "Despite his high-profile position running one of the world's largest companies, Zuckerberg typically prefers to speak through Facebook posts and events rather than interviews.\n",
      "\n",
      "\n",
      "\n",
      "After his post on Wednesday, Zuckerberg was criticized by some on social media for stopping short of an outright apology. He rectified that in the CNN interview.\n",
      "\n",
      "\n",
      "\n",
      "\"This was a major breach of trust, and I'm really sorry that this happened,\" Zuckerberg said. \"We have a basic responsibility to protect peoples' data.\"\n",
      "\n",
      "\n",
      "\n",
      "Related: Mark Zuckerberg in his own words: The CNN interview\n",
      "\n",
      "\n",
      "\n",
      "Zuckerberg is now pledging to further restrict developers' access to user data, including automatically removing access for any app the user hasn't opened in at least three months. Facebook will also investigate all apps with access to large amounts of user data.\n",
      "\n",
      "\n",
      "\n",
      "\"It's hard to know what we'll find, but we are going to review thousands of apps,\" he told CNN. \"This is going to be an intensive process.\"\n"
     ]
    }
   ],
   "source": [
    "#file\n",
    "file = open(\"CNN.txt\", \"r+\") #\"r+\" 只能讀\n",
    "#file.read()\n",
    "#file.readlines()\n",
    "for line in file.readlines():\n",
    "    print(line)\n",
    "\n",
    "    #file.write()\n",
    "file.close()"
   ]
  },
  {
   "cell_type": "code",
   "execution_count": 134,
   "metadata": {},
   "outputs": [
    {
     "name": "stdout",
     "output_type": "stream",
     "text": [
      "zuckerberg 12\n",
      "the 20\n",
      "that 6\n",
      "facebook 11\n",
      "to 26\n",
      "in 8\n",
      "on 7\n",
      "a 10\n",
      "of 9\n"
     ]
    }
   ],
   "source": [
    "file = open(\"CNN.txt\", \"r+\")\n",
    "content = file.read()\n",
    "content = content.lower()\n",
    "content = content.replace(\",\",\"\").replace(\".\",\"\").replace(\":\",\"\").replace(\"(\",\" \").replace(\")\",\" \")\n",
    "content = content.replace(\"\\\"\", \"\")\n",
    "\n",
    "dword = {}\n",
    "for term in content.split(\" \"):\n",
    "    #print(term,\"*\")\n",
    "    if term.strip() in dword:\n",
    "        dword[term.strip()] = dword[term.strip()] + 1\n",
    "        #print(dword)\n",
    "    else:\n",
    "        dword[term.strip()] = 1\n",
    "\n",
    "for key in iter(dword):\n",
    "    if dword[key] > 5 :\n",
    "        print(key, dword[key])\n",
    "    \n",
    "file.close()\n",
    "#print(file)"
   ]
  }
 ],
 "metadata": {
  "kernelspec": {
   "display_name": "Python 3",
   "language": "python",
   "name": "python3"
  },
  "language_info": {
   "codemirror_mode": {
    "name": "ipython",
    "version": 3
   },
   "file_extension": ".py",
   "mimetype": "text/x-python",
   "name": "python",
   "nbconvert_exporter": "python",
   "pygments_lexer": "ipython3",
   "version": "3.6.2"
  }
 },
 "nbformat": 4,
 "nbformat_minor": 2
}
