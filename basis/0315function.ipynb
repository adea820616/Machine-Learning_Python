{
 "cells": [
  {
   "cell_type": "code",
   "execution_count": 9,
   "metadata": {},
   "outputs": [
    {
     "name": "stdout",
     "output_type": "stream",
     "text": [
      "x= 0 ,f(x)= 3\n",
      "x= 1 ,f(x)= 6\n",
      "x= 2 ,f(x)= 11\n",
      "x= 3 ,f(x)= 18\n",
      "x= 4 ,f(x)= 27\n",
      "x= 5 ,f(x)= 38\n",
      "x= 6 ,f(x)= 51\n",
      "x= 7 ,f(x)= 66\n",
      "x= 8 ,f(x)= 83\n",
      "x= 9 ,f(x)= 102\n"
     ]
    }
   ],
   "source": [
    "#function\n",
    "def f(x):\n",
    "    return x * x + 2 * x + 3\n",
    "for i in range(10):\n",
    "    print(\"x=\", i,\",f(x)=\", f(i))"
   ]
  },
  {
   "cell_type": "code",
   "execution_count": 14,
   "metadata": {},
   "outputs": [
    {
     "data": {
      "text/plain": [
       "5"
      ]
     },
     "execution_count": 14,
     "metadata": {},
     "output_type": "execute_result"
    }
   ],
   "source": [
    "# a1 = 1, a2 = 1, a3 = 2, a4 = 3, a5 = 5...\n",
    "#FIB數列\n",
    "\n",
    "# fib(5)= fib(4)+fib(3)\n",
    "#       =fib(3)+fib(2)+fib(2)+fib(1)\n",
    "#       =fib(2)+fib(1)+fib(1)+fib(0)+fib(1)+fib(0)+1\n",
    "#       =fib(1)+fib(0) + 1 + 1 + 0 + 1 + 0 + 1\n",
    "#       =1 + 0 + 1 + 1 + 0 + 1 +1 \n",
    "#       =5\n",
    "\n",
    "def fib(n):\n",
    "    if n == 1 or n == 2:\n",
    "        return 1\n",
    "    else:\n",
    "        a = 1\n",
    "        b = 1\n",
    "        for i in range(3,n+1):\n",
    "            c = a + b\n",
    "            a = b\n",
    "            b = c\n",
    "        return c\n",
    "fib(5)"
   ]
  }
 ],
 "metadata": {
  "kernelspec": {
   "display_name": "Python 3",
   "language": "python",
   "name": "python3"
  },
  "language_info": {
   "codemirror_mode": {
    "name": "ipython",
    "version": 3
   },
   "file_extension": ".py",
   "mimetype": "text/x-python",
   "name": "python",
   "nbconvert_exporter": "python",
   "pygments_lexer": "ipython3",
   "version": "3.6.2"
  }
 },
 "nbformat": 4,
 "nbformat_minor": 2
}
