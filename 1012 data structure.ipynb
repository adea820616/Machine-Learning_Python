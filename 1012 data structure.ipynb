{
 "cells": [
  {
   "cell_type": "code",
   "execution_count": 3,
   "metadata": {},
   "outputs": [
    {
     "name": "stdout",
     "output_type": "stream",
     "text": [
      "       groups  ironmen\n",
      "0  Modern Web       46\n",
      "1      DevOps        8\n",
      "2       Cloud       12\n",
      "3    Big Data       12\n",
      "4    Security        6\n",
      "5       自我挑戰組       58\n",
      "<class 'pandas.core.frame.DataFrame'>\n"
     ]
    }
   ],
   "source": [
    "#Python\n",
    "#DataFrame\n",
    "import pandas as pd\n",
    "groups = [\"Modern Web\", \"DevOps\", \"Cloud\", \"Big Data\", \"Security\", \"自我挑戰組\"]\n",
    "ironmen = [46, 8, 12, 12, 6, 58]\n",
    "\n",
    "#給欄位名稱 用{}\n",
    "ironmen_dict = {\"groups\": groups,\n",
    "               \"ironmen\": ironmen\n",
    "               }\n",
    "ironmen_df = pd.DataFrame(ironmen_dict)\n",
    "\n",
    "print(ironmen_df)\n",
    "print(type(ironmen_df))"
   ]
  },
  {
   "cell_type": "code",
   "execution_count": null,
   "metadata": {},
   "outputs": [],
   "source": []
  },
  {
   "cell_type": "code",
   "execution_count": 8,
   "metadata": {},
   "outputs": [
    {
     "name": "stdout",
     "output_type": "stream",
     "text": [
      "   col1  col2\n",
      "0     1     3\n",
      "1     2     4\n"
     ]
    }
   ],
   "source": [
    "#Pandas 的 data frame\n",
    "#可以由 NumPy 的 2d array 轉換\n",
    "\n",
    "#R\n",
    "#因為matrix設成二維，所以list第一格給NULL\n",
    "#my_mat <- matrix(1:4, nrow = 2, dimnames = list(NULL, c(\"col1\", \"col2\")))\n",
    "#my_df <- data.frame(my_mat)\n",
    "#my_df\n",
    "\n",
    "#Python\n",
    "import numpy as np\n",
    "import pandas as pd\n",
    "\n",
    "my_2d = np.array( [[1,3],\n",
    "                   [2,4]\n",
    "                  ])\n",
    "my_df = pd.DataFrame(my_2d, columns = [\"col1\",\"col2\"])\n",
    "print(my_df)"
   ]
  },
  {
   "cell_type": "code",
   "execution_count": 22,
   "metadata": {},
   "outputs": [
    {
     "name": "stdout",
     "output_type": "stream",
     "text": [
      "0    46\n",
      "Name: ironmen, dtype: int64\n",
      "0    46\n",
      "1     8\n",
      "Name: ironmen, dtype: int64\n",
      "---\n",
      "0    Modern Web\n",
      "1        DevOps\n",
      "2         Cloud\n",
      "3      Big Data\n",
      "4      Security\n",
      "5         自我挑戰組\n",
      "Name: groups, dtype: object\n",
      "0    Modern Web\n",
      "1        DevOps\n",
      "2         Cloud\n",
      "3      Big Data\n",
      "4      Security\n",
      "5         自我挑戰組\n",
      "Name: groups, dtype: object\n",
      "(6, 2)\n",
      "         ironmen\n",
      "count   6.000000\n",
      "mean   23.666667\n",
      "std    22.393451\n",
      "min     6.000000\n",
      "25%     9.000000\n",
      "50%    12.000000\n",
      "75%    37.500000\n",
      "max    58.000000\n",
      "       groups  ironmen\n",
      "0  Modern Web       46\n",
      "1      DevOps        8\n",
      "2       Cloud       12\n",
      "     groups  ironmen\n",
      "3  Big Data       12\n",
      "4  Security        6\n",
      "5     自我挑戰組       58\n",
      "Index(['groups', 'ironmen'], dtype='object')\n",
      "RangeIndex(start=0, stop=6, step=1)\n"
     ]
    }
   ],
   "source": [
    "#Pandas 透過使用中括號 []與.iloc 選擇元素\n",
    "\n",
    "#python\n",
    "import pandas as pd\n",
    "\n",
    "groups = [\"Modern Web\", \"DevOps\", \"Cloud\", \"Big Data\", \"Security\", \"自我挑戰組\"]\n",
    "ironmen = [46, 8, 12, 12, 6, 58]\n",
    "\n",
    "ironmen_dict = {\"groups\": groups,\n",
    "                \"ironmen\": ironmen\n",
    "                }\n",
    "ironmen_df = pd.DataFrame(ironmen_dict)\n",
    "\n",
    "print( ironmen_df.iloc[0:1,1])\n",
    "print( ironmen_df.iloc[0:2,1])\n",
    "print(\"---\")\n",
    "#ironmen_df$groups\n",
    "print(ironmen_df[\"groups\"])\n",
    "print(ironmen_df.groups)\n",
    "\n",
    "# 回傳列數與欄數 dim()\n",
    "print(ironmen_df.shape)\n",
    "# 回傳描述性統計summary()\n",
    "print(ironmen_df.describe())\n",
    "\n",
    "print(ironmen_df.head(3))\n",
    "print(ironmen_df.tail(3))\n",
    "\n",
    "# 回傳欄位名稱\n",
    "print(ironmen_df.columns)\n",
    "# 回傳index\n",
    "print(ironmen_df.index)"
   ]
  },
  {
   "cell_type": "code",
   "execution_count": 25,
   "metadata": {},
   "outputs": [
    {
     "name": "stdout",
     "output_type": "stream",
     "text": [
      "[Mom, Dog, Cat, Big, Sam]\n",
      "Categories (5, object): [Big, Cat, Dog, Mom, Sam]\n",
      "<class 'pandas.core.categorical.Categorical'>\n"
     ]
    }
   ],
   "source": [
    "#R 的 factor 資料結構\n",
    "#pandas 的 category 資料結構\n",
    "#Nominal\n",
    "\n",
    "import pandas as pd\n",
    "groups_catego = pd.Categorical([\"Mom\",\"Dog\",\"Cat\",\"Big\",\"Sam\"])\n",
    "print(groups_catego)\n",
    "print(type(groups_catego))"
   ]
  },
  {
   "cell_type": "code",
   "execution_count": null,
   "metadata": {},
   "outputs": [],
   "source": [
    "#Ordinal\n",
    "\n",
    "#R 語言使用 ordered = TRUE 與指定 levels =參數\n",
    "#R\n",
    "#temperature <- c(\"cold\", \"warm\", \"hot\")\n",
    "#temperature_factor <- factor(temperature, ordered = TRUE, levels = c(\"cold\", \"warm\", \"hot\"))\n",
    "#temperature_factor\n",
    "\n",
    "#Python\n",
    "#Pandas 使用 ordered = True 與指定 categories = 參數\n",
    "\n",
    "import pandas as pd\n",
    "temp_list = [\"cold\", \"warm\", \"hot\"]\n",
    "temp_catego = pd.Categorical(temp_list, categories=[\"cold\", \"warm\", \"hot\"], ordered=True)\n",
    "\n",
    "print(temp_catego)\n",
    "\n",
    "temp = pd.Series(temp_catego)\n",
    "print(temp)"
   ]
  },
  {
   "cell_type": "code",
   "execution_count": null,
   "metadata": {},
   "outputs": [],
   "source": []
  }
 ],
 "metadata": {
  "kernelspec": {
   "display_name": "Python 3",
   "language": "python",
   "name": "python3"
  },
  "language_info": {
   "codemirror_mode": {
    "name": "ipython",
    "version": 3
   },
   "file_extension": ".py",
   "mimetype": "text/x-python",
   "name": "python",
   "nbconvert_exporter": "python",
   "pygments_lexer": "ipython3",
   "version": "3.6.2"
  }
 },
 "nbformat": 4,
 "nbformat_minor": 2
}
