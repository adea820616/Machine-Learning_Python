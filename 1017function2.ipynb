{
 "cells": [
  {
   "cell_type": "code",
   "execution_count": 2,
   "metadata": {},
   "outputs": [
    {
     "name": "stdout",
     "output_type": "stream",
     "text": [
      "9\n"
     ]
    }
   ],
   "source": [
    "#function\n",
    "\n",
    "#R\n",
    "#my_square <- function(input_number) {\n",
    "#    ans <- input_number^2 # 區域變數，只有在函數中可以被使用\n",
    "#    return(ans)\n",
    "#}\n",
    "\n",
    "# 呼叫函數\n",
    "#my_square(3)\n",
    "\n",
    "#####\n",
    "#Python\n",
    "\n",
    "#定義自訂函數\n",
    "def my_square(input_number):\n",
    "    #計算平方數\n",
    "    ans = input_number ** 2\n",
    "    \n",
    "    return ans\n",
    "print(my_square(3))\n"
   ]
  },
  {
   "cell_type": "code",
   "execution_count": 11,
   "metadata": {},
   "outputs": [
    {
     "name": "stdout",
     "output_type": "stream",
     "text": [
      "160\n",
      "6\n",
      "26.666666666666668\n"
     ]
    }
   ],
   "source": [
    "#Return的位子?\n",
    "\n",
    "def my_mean(x):\n",
    "    #計算平均數\n",
    "    def my_sum(x):\n",
    "        temp_sum = 0\n",
    "        for i in x:\n",
    "            temp_sum += i\n",
    "        print(temp_sum)\n",
    "        return temp_sum\n",
    "\n",
    "    #算個數\n",
    "    def my_length(x):\n",
    "        temp_length = 0\n",
    "        \n",
    "        for i in x:\n",
    "            temp_length +=1\n",
    "        print(temp_length)\n",
    "        return temp_length\n",
    "    \n",
    "    return my_sum(x) / my_length(x)\n",
    "\n",
    "my_list = [51, 8, 18, 13, 6, 64]\n",
    "\n",
    "print( my_mean(my_list))\n"
   ]
  },
  {
   "cell_type": "code",
   "execution_count": 8,
   "metadata": {},
   "outputs": [
    {
     "name": "stdout",
     "output_type": "stream",
     "text": [
      "26.666666666666668\n"
     ]
    }
   ],
   "source": []
  }
 ],
 "metadata": {
  "kernelspec": {
   "display_name": "Python 3",
   "language": "python",
   "name": "python3"
  },
  "language_info": {
   "codemirror_mode": {
    "name": "ipython",
    "version": 3
   },
   "file_extension": ".py",
   "mimetype": "text/x-python",
   "name": "python",
   "nbconvert_exporter": "python",
   "pygments_lexer": "ipython3",
   "version": "3.6.2"
  }
 },
 "nbformat": 4,
 "nbformat_minor": 2
}
