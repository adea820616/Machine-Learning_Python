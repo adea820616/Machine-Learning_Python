{
 "cells": [
  {
   "cell_type": "code",
   "execution_count": null,
   "metadata": {},
   "outputs": [],
   "source": [
    "#Numpy\n",
    "#Power Iteration Method: Dominant Eigenvector\n",
    "import numpy as np\n",
    "\n",
    "A = np.array([[0,0,0,1,0],\n",
    "              [0,0,1,0,1],\n",
    "              [1,0,0,0,0],\n",
    "              [0,1,1,0,1],\n",
    "              [0,1,0,0,0]])\n",
    "\n",
    "\n",
    "#算兩向量距離\n",
    "#def dist (v1, v2):\n",
    "#    return np.dot( v1 - v2, v1 - v2) ** 0.5  # **o.5 開根號\n",
    "\n",
    "eps = 0.1\n",
    "# p = np.ones(n) n=長度\n",
    "# p = [1,1,1,1,1]\n",
    "p0 = np.zeros(5)\n",
    "p1 = np.ones(5)\n",
    "\n",
    "while np.linalg.norm( p0 - p1 ) > eps:\n",
    "    p0 = p1\n",
    "    p1 = np.dot(A.T, p0)\n",
    "    i = np.argmax(p1) #回傳最大的位子\n",
    "    lamda = p1[i] / p0[i]\n",
    "    p1 = p1 / p1[i]\n",
    "p1 = p1 / np.linalg.norm(p1)\n",
    "print( p1, lamda)\n",
    "\n",
    "\n",
    "#np.linalg.norm(n)\n",
    "# n = [1,2,3]\n",
    "# n = 1^2 + 2^2 +3^3 = 14\n",
    "\n",
    "#np.linalg.norm(p0)\n",
    "#linalg線性代數\n",
    "#linalg.norm向量長度\n",
    "#np.linalg.norm()\n",
    "\n",
    "#np.matmul() 二維以上矩陣相乘\n",
    "#np.dot() 二維矩陣相乘"
   ]
  }
 ],
 "metadata": {
  "kernelspec": {
   "display_name": "Python 3",
   "language": "python",
   "name": "python3"
  },
  "language_info": {
   "codemirror_mode": {
    "name": "ipython",
    "version": 3
   },
   "file_extension": ".py",
   "mimetype": "text/x-python",
   "name": "python",
   "nbconvert_exporter": "python",
   "pygments_lexer": "ipython3",
   "version": "3.6.2"
  }
 },
 "nbformat": 4,
 "nbformat_minor": 2
}
